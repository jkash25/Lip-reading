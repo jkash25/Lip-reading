{
 "cells": [
  {
   "cell_type": "code",
   "execution_count": 3,
   "metadata": {},
   "outputs": [],
   "source": [
    "import numpy as np\n",
    "import warnings\n",
    "from tqdm import tqdm\n",
    "from pathlib import Path\n",
    "import pandas as pd\n",
    "import os\n",
    "import imutils\n",
    "import dlib\n",
    "import cv2\n",
    "import imageio\n",
    "from PIL import Image\n",
    "from imutils import face_utils\n",
    "import time\n",
    "from keras.utils import np_utils, generic_utils\n",
    "import shutil\n",
    "from sklearn import svm\n",
    "from sklearn.model_selection import GridSearchCV\n",
    "from skimage.transform import resize\n",
    "from sklearn.utils import shuffle\n",
    "from skimage.io import imread, imsave, imshow\n",
    "import tensorflow\n",
    "import keras\n",
    "from keras import layers\n",
    "from keras.layers.convolutional import Conv3D, MaxPooling3D, Conv2D, MaxPooling2D\n",
    "from keras.layers.core import Dense, Dropout, Flatten\n",
    "from keras.models import Sequential, load_model\n",
    "from keras.layers import Activation, GlobalAveragePooling2D,GlobalMaxPool2D,ZeroPadding3D, Bidirectional,TimeDistributed, LSTM, GRU, Reshape,BatchNormalization, ConvLSTM2D, ConvLSTM3D,Input\n",
    "from keras.utils import plot_model\n",
    "import matplotlib.pyplot as plt\n",
    "from keras.callbacks import CSVLogger, ModelCheckpoint, EarlyStopping\n",
    "import matplotlib.pyplot as plt\n",
    "# from tensorflow.keras.applications.resnet50 import ResNet50\n",
    "from tensorflow.keras.applications.inception_v3 import InceptionV3\n",
    "\n",
    "\n",
    "warnings.filterwarnings(\"ignore\")"
   ]
  },
  {
   "cell_type": "code",
   "execution_count": 1,
   "metadata": {},
   "outputs": [
    {
     "name": "stderr",
     "output_type": "stream",
     "text": [
      "Cloning into 'LipNet'...\n"
     ]
    }
   ],
   "source": [
    "!git clone https://github.com/rizkiarm/LipNet/"
   ]
  },
  {
   "cell_type": "code",
   "execution_count": 1,
   "metadata": {},
   "outputs": [],
   "source": [
    "x_train = []\n",
    "y_train = []\n",
    "x_val = []\n",
    "y_val = []\n",
    "x_test = []\n",
    "y_test = []\n",
    "\n",
    "words = ['Begin','Choose','Connection','Navigation','Next', 'Previous', 'Start','Stop','Hello','Web']\n",
    "phrases = [\"Stop navigaton\",\"Excuse me\",\"I am sorry\",\"Thank you\",'Good bye','I love this game','Nice to meet you','You are welcome','How are you?','Have a good time']\n",
    "phrases_di = {i:phrases[i] for i in range(len(phrases))}\n",
    "\n",
    "\n",
    "words_di = {i:words[i] for i in range(len(words))}\n",
    "unseen_test = ['F04']\n",
    "unseen_validation = ['F07','M02']\n",
    "starting_path = 'C:\\\\Users\\\\Jai K\\\\CS Stuff\\\\Python\\\\ISR Project\\\\dataset\\\\dataset'\n",
    "people = ['F01','F02','F04','F05','F06','F07','F08','F09','F10','F11','M01','M02','M04','M07','M08']\n",
    "#people = ['F01']\n",
    "data_types = ['words']\n",
    "folder_nums = ['01','02','03','04','05','06','07','08','09','10']\n",
    "instances = ['01','02','03','04','05','06','07','08','09','10']\n",
    "image_nums = ['color_001','color_002','color_003','color_004','color_005','color_006','color_007','color008','color_009','color_010']#,'color_11','color_12','color_13']"
   ]
  },
  {
   "cell_type": "code",
   "execution_count": 2,
   "metadata": {},
   "outputs": [
    {
     "name": "stdout",
     "output_type": "stream",
     "text": [
      "{0: 'Begin', 1: 'Choose', 2: 'Connection', 3: 'Navigation', 4: 'Next', 5: 'Previous', 6: 'Start', 7: 'Stop', 8: 'Hello', 9: 'Web'}\n"
     ]
    }
   ],
   "source": [
    "print(words_di)"
   ]
  },
  {
   "cell_type": "code",
   "execution_count": 3,
   "metadata": {},
   "outputs": [],
   "source": [
    "def crop_and_save():\n",
    "    MAX_HEIGHT = 100\n",
    "    MAX_WIDTH = 100\n",
    "    max_seq_length = 10\n",
    "    t1 = time.time()\n",
    "    hog_face_detector = dlib.get_frontal_face_detector()\n",
    "    dlib_facelandmark = dlib.shape_predictor('C:\\\\Users\\\\Jai K\\\\CS Stuff\\\\Python\\\\ISR Project\\\\shape_predictor_68_face_landmarks.dat')\n",
    "\n",
    "    for person in people:\n",
    "        tx1 = time.time()\n",
    "        for data_type in data_types:\n",
    "            for word_index,folder in enumerate(tqdm(folder_nums)):\n",
    "                for instance in instances:\n",
    "                    sequence = []\n",
    "                    #sequence = np.array(sequence)\n",
    "                    for image in image_nums:\n",
    "                        path = starting_path + '\\\\' + person + '\\\\' + data_type + '\\\\' + folder + '\\\\'+instance + '\\\\' + image + '.jpg'\n",
    "                        \n",
    "\n",
    "                        if(os.path.exists(path) and path.__contains__('color')):\n",
    "                            frame = cv2.imread(path)\n",
    "                            \n",
    "                            gray = cv2.cvtColor(frame, cv2.COLOR_BGR2GRAY)\n",
    "                            x_arr = []\n",
    "                            y_arr = []\n",
    "                            gray = imutils.resize(gray, width=500)\n",
    "                            copy = gray.copy()\n",
    "                            faces = hog_face_detector(gray)\n",
    "                            for face in faces:\n",
    "\n",
    "                                face_landmarks = dlib_facelandmark(gray, face)\n",
    "\n",
    "                                for n in range(48, 68):\n",
    "                                    x = face_landmarks.part(n).x\n",
    "                                    y = face_landmarks.part(n).y\n",
    "                                    x_arr.append(x)\n",
    "                                    y_arr.append(y)\n",
    "                                    #print(face_landmarks.part(n))\n",
    "\n",
    "                                    xmax = max(x_arr)\n",
    "                                    xmin = min(x_arr)\n",
    "                                    ymax = max(y_arr)\n",
    "                                    ymin = min(y_arr)\n",
    "\n",
    "                                    cv2.circle(gray, (x, y), 1, (0, 255, 255), 1)\n",
    "                            copy = copy[ymin-1:ymax+3, xmin-5:xmax+5]\n",
    "                            width2 = 100\n",
    "                            height2 = 100\n",
    "                            dim = (width2, height2)\n",
    "                            resized_cropped = cv2.resize(copy, dim, interpolation = cv2.INTER_AREA)\n",
    "                            MAX_WIDTH, MAX_HEIGHT = resized_cropped.shape\n",
    "                            max_seq_length = 10\n",
    "                            resized_cropped = resized_cropped.astype(np.uint8)\n",
    "                            sequence.append(resized_cropped)\n",
    "                        else:\n",
    "                            continue\n",
    "                    pad_array = [np.zeros((MAX_WIDTH, MAX_HEIGHT))]           \n",
    "                    sequence.extend(pad_array * (max_seq_length - len(sequence)))\n",
    "                    sequence = np.array(sequence)\n",
    "                    if person in unseen_test:\n",
    "                        x_test.append(sequence)\n",
    "                        y_test.append(word_index)\n",
    "                    elif person in unseen_validation:\n",
    "                        x_val.append(sequence)\n",
    "                        y_val.append(word_index)\n",
    "                    else:\n",
    "                        x_train.append(sequence)\n",
    "                        y_train.append(word_index)\n",
    "        tx2 = time.time()\n",
    "        print(f'Finished reading images for person {person}. Time taken : {tx2 - tx1} secs.')\n",
    "    t2 = time.time()\n",
    "    print(f\"Time taken to create 3D Tensor from cropped lip images: {t2 - t1} secs\")"
   ]
  },
  {
   "cell_type": "code",
   "execution_count": 4,
   "metadata": {},
   "outputs": [
    {
     "name": "stderr",
     "output_type": "stream",
     "text": [
      "100%|██████████| 10/10 [00:14<00:00,  1.48s/it]\n"
     ]
    },
    {
     "name": "stdout",
     "output_type": "stream",
     "text": [
      "Finished reading images for person F01. Time taken : 14.838965654373169 secs.\n"
     ]
    },
    {
     "name": "stderr",
     "output_type": "stream",
     "text": [
      "100%|██████████| 10/10 [00:15<00:00,  1.55s/it]\n"
     ]
    },
    {
     "name": "stdout",
     "output_type": "stream",
     "text": [
      "Finished reading images for person F02. Time taken : 15.49447751045227 secs.\n"
     ]
    },
    {
     "name": "stderr",
     "output_type": "stream",
     "text": [
      "100%|██████████| 10/10 [00:21<00:00,  2.17s/it]\n"
     ]
    },
    {
     "name": "stdout",
     "output_type": "stream",
     "text": [
      "Finished reading images for person F04. Time taken : 21.688720703125 secs.\n"
     ]
    },
    {
     "name": "stderr",
     "output_type": "stream",
     "text": [
      "100%|██████████| 10/10 [00:17<00:00,  1.72s/it]\n"
     ]
    },
    {
     "name": "stdout",
     "output_type": "stream",
     "text": [
      "Finished reading images for person F05. Time taken : 17.238247871398926 secs.\n"
     ]
    },
    {
     "name": "stderr",
     "output_type": "stream",
     "text": [
      "100%|██████████| 10/10 [00:24<00:00,  2.44s/it]\n"
     ]
    },
    {
     "name": "stdout",
     "output_type": "stream",
     "text": [
      "Finished reading images for person F06. Time taken : 24.368489503860474 secs.\n"
     ]
    },
    {
     "name": "stderr",
     "output_type": "stream",
     "text": [
      "100%|██████████| 10/10 [00:26<00:00,  2.68s/it]\n"
     ]
    },
    {
     "name": "stdout",
     "output_type": "stream",
     "text": [
      "Finished reading images for person F07. Time taken : 26.756532192230225 secs.\n"
     ]
    },
    {
     "name": "stderr",
     "output_type": "stream",
     "text": [
      "100%|██████████| 10/10 [00:16<00:00,  1.62s/it]\n"
     ]
    },
    {
     "name": "stdout",
     "output_type": "stream",
     "text": [
      "Finished reading images for person F08. Time taken : 16.17273712158203 secs.\n"
     ]
    },
    {
     "name": "stderr",
     "output_type": "stream",
     "text": [
      "100%|██████████| 10/10 [00:17<00:00,  1.74s/it]\n"
     ]
    },
    {
     "name": "stdout",
     "output_type": "stream",
     "text": [
      "Finished reading images for person F09. Time taken : 17.35946822166443 secs.\n"
     ]
    },
    {
     "name": "stderr",
     "output_type": "stream",
     "text": [
      "100%|██████████| 10/10 [00:15<00:00,  1.56s/it]\n"
     ]
    },
    {
     "name": "stdout",
     "output_type": "stream",
     "text": [
      "Finished reading images for person F10. Time taken : 15.599406719207764 secs.\n"
     ]
    },
    {
     "name": "stderr",
     "output_type": "stream",
     "text": [
      "100%|██████████| 10/10 [00:15<00:00,  1.53s/it]\n"
     ]
    },
    {
     "name": "stdout",
     "output_type": "stream",
     "text": [
      "Finished reading images for person F11. Time taken : 15.285808324813843 secs.\n"
     ]
    },
    {
     "name": "stderr",
     "output_type": "stream",
     "text": [
      "100%|██████████| 10/10 [00:16<00:00,  1.63s/it]\n"
     ]
    },
    {
     "name": "stdout",
     "output_type": "stream",
     "text": [
      "Finished reading images for person M01. Time taken : 16.26610517501831 secs.\n"
     ]
    },
    {
     "name": "stderr",
     "output_type": "stream",
     "text": [
      "100%|██████████| 10/10 [00:17<00:00,  1.73s/it]\n"
     ]
    },
    {
     "name": "stdout",
     "output_type": "stream",
     "text": [
      "Finished reading images for person M02. Time taken : 17.318353176116943 secs.\n"
     ]
    },
    {
     "name": "stderr",
     "output_type": "stream",
     "text": [
      "100%|██████████| 10/10 [00:17<00:00,  1.74s/it]\n"
     ]
    },
    {
     "name": "stdout",
     "output_type": "stream",
     "text": [
      "Finished reading images for person M04. Time taken : 17.377177238464355 secs.\n"
     ]
    },
    {
     "name": "stderr",
     "output_type": "stream",
     "text": [
      "100%|██████████| 10/10 [00:16<00:00,  1.60s/it]\n"
     ]
    },
    {
     "name": "stdout",
     "output_type": "stream",
     "text": [
      "Finished reading images for person M07. Time taken : 16.043601512908936 secs.\n"
     ]
    },
    {
     "name": "stderr",
     "output_type": "stream",
     "text": [
      "100%|██████████| 10/10 [00:14<00:00,  1.46s/it]"
     ]
    },
    {
     "name": "stdout",
     "output_type": "stream",
     "text": [
      "Finished reading images for person M08. Time taken : 14.633288621902466 secs.\n",
      "Time taken to create 3D Tensor from cropped lip images: 267.35346245765686 secs\n"
     ]
    },
    {
     "name": "stderr",
     "output_type": "stream",
     "text": [
      "\n"
     ]
    }
   ],
   "source": [
    "crop_and_save()"
   ]
  },
  {
   "cell_type": "code",
   "execution_count": 5,
   "metadata": {},
   "outputs": [
    {
     "name": "stdout",
     "output_type": "stream",
     "text": [
      "X Training shape:  (1200, 10, 100, 100)\n",
      "X Test shape:  (100, 10, 100, 100)\n",
      "X Validation shape:  (200, 10, 100, 100)\n",
      "Y Training shape:  (1200,)\n",
      "Y Test shape:  (100,)\n",
      "Y Validation shape:  (200,)\n"
     ]
    }
   ],
   "source": [
    "x_train = np.array(x_train)\n",
    "x_test = np.array(x_test)\n",
    "x_val = np.array(x_val)\n",
    "y_train = np.array(y_train)\n",
    "y_test = np.array(y_test)\n",
    "y_val = np.array(y_val)\n",
    "\n",
    "# x_val = x_train[:10,:]\n",
    "# x_test= x_train[10:20,:]\n",
    "# x_train = x_train[20:,:]\n",
    "# y_val = y_train[:10]\n",
    "# y_test= y_train[10:20]\n",
    "# y_train = y_train[20:]\n",
    "\n",
    "\n",
    "print(\"X Training shape: \",x_train.shape)\n",
    "print(\"X Test shape: \",x_test.shape)\n",
    "print(\"X Validation shape: \",x_val.shape)\n",
    "print(\"Y Training shape: \",y_train.shape)\n",
    "print(\"Y Test shape: \",y_test.shape)\n",
    "print(\"Y Validation shape: \",y_val.shape)"
   ]
  },
  {
   "cell_type": "code",
   "execution_count": 14,
   "metadata": {},
   "outputs": [
    {
     "name": "stdout",
     "output_type": "stream",
     "text": [
      "0\n"
     ]
    }
   ],
   "source": [
    "x =np.isnan(x_val).sum()\n",
    "print(x)"
   ]
  },
  {
   "cell_type": "code",
   "execution_count": 33,
   "metadata": {},
   "outputs": [],
   "source": [
    "def normalize_it(X):\n",
    "    # print(np.isnan(X).sum())\n",
    "    # mean = np.mean(X,axis=(2,3),keepdims=True)\n",
    "\n",
    "    # std = np.std(X,axis=(2,3),  keepdims=True)\n",
    "    # print((std==0).sum())\n",
    "    # X = (X - mean)/std\n",
    "    # print(np.isnan(X).sum())\n",
    "    v_min = X.min(axis=(2, 3), keepdims=True)\n",
    "    v_max = X.max(axis=(2, 3), keepdims=True)\n",
    "    #print(v_min)\n",
    "    #print('Max: ',v_max)\n",
    "    X = (X - v_min)/(v_max - v_min)\n",
    "    X = np.nan_to_num(X)\n",
    "    return X\n",
    "    "
   ]
  },
  {
   "cell_type": "code",
   "execution_count": 35,
   "metadata": {},
   "outputs": [],
   "source": [
    "def clean(x_train,x_val,x_test,y_train,y_val,y_test):\n",
    "    print()\n",
    "    print(\"Normalizing data...\")\n",
    "    t1 = time.time()\n",
    "    x_train = normalize_it(x_train)\n",
    "    #print(X_train)\n",
    "    x_val = normalize_it(x_val)\n",
    "    x_test = normalize_it(x_test)\n",
    "    t2 =time.time()\n",
    "    print()\n",
    "    print(f\"Time taken to normalize images: {t2 - t1} secs\")\n",
    "\n",
    "    print()\n",
    "    print(\"One hot encoding labels...\")\n",
    "    t3 = time.time()\n",
    "    y_train = np_utils.to_categorical(y_train, 10)\n",
    "    y_test = np_utils.to_categorical(y_test, 10)\n",
    "    y_val = np_utils.to_categorical(y_val, 10)\n",
    "    t4 = time.time()\n",
    "    print()\n",
    "    print(f\"Time taken to convert labels to categorical: {t4 - t3} secs\")\n",
    "\n",
    "    print()\n",
    "    print(\"Shuffling data...\")\n",
    "    t5 = time.time()\n",
    "    X_train, y_train = shuffle(x_train, y_train, random_state=0)\n",
    "    X_test, y_test = shuffle(x_test, y_test, random_state=0)\n",
    "    X_val, y_val = shuffle(x_val, y_val, random_state=0)\n",
    "    t6 = time.time()\n",
    "    print()\n",
    "    print(f\"Time taken to shuffle data: {t6 - t5} secs\")\n",
    "    \n",
    "    print()\n",
    "    print(\"Reshaping data...\")\n",
    "    t7 = time.time()\n",
    "    x_train = np.expand_dims(x_train, axis=4)\n",
    "    x_val = np.expand_dims(x_val, axis=4)\n",
    "    x_test = np.expand_dims(x_test, axis=4)\n",
    "    t8 = time.time()\n",
    "    print()\n",
    "    print(f\"Time taken to reshape data: {t8 - t7} secs\")\n",
    "    print()\n",
    "\n",
    "    print(x_train.shape)\n",
    "    print(x_val.shape)\n",
    "    print(x_test.shape)\n",
    "    return x_train, x_val, x_test, y_train, y_val, y_test"
   ]
  },
  {
   "cell_type": "code",
   "execution_count": 36,
   "metadata": {},
   "outputs": [
    {
     "name": "stdout",
     "output_type": "stream",
     "text": [
      "\n",
      "Normalizing data...\n",
      "\n",
      "Time taken to normalize images: 2.2171103954315186 secs\n",
      "\n",
      "One hot encoding labels...\n",
      "\n",
      "Time taken to convert labels to categorical: 0.005981922149658203 secs\n",
      "\n",
      "Shuffling data...\n",
      "\n",
      "Time taken to shuffle data: 0.3474314212799072 secs\n",
      "\n",
      "Reshaping data...\n",
      "\n",
      "Time taken to reshape data: 0.0 secs\n",
      "\n",
      "(1200, 10, 100, 100, 1)\n",
      "(200, 10, 100, 100, 1)\n",
      "(100, 10, 100, 100, 1)\n"
     ]
    }
   ],
   "source": [
    "x_train, x_val, x_test, y_train, y_val, y_test = clean(x_train,x_val,x_test,y_train,y_val,y_test)\n",
    "\n",
    "np.save('x_train',x_train)\n",
    "np.save('x_val',x_val)\n",
    "np.save('x_test',x_test)\n",
    "np.save('y_train',y_train)\n",
    "np.save('y_val',y_val)\n",
    "np.save('y_test',y_test)"
   ]
  },
  {
   "cell_type": "code",
   "execution_count": 37,
   "metadata": {},
   "outputs": [
    {
     "name": "stdout",
     "output_type": "stream",
     "text": [
      "[2 8 0 5 7 9 1 7 5 9 5 9 7 1 0 3 2 2 3 0 4 6 0 7 4 4 0 9 8 7 6 8 9 6 5 2 1\n",
      " 5 6 7 0 6 4 4 0 1 1 4 3 0 9 5 0 3 2 5 1 3 2 5 1 3 6 5 7 8 3 8 1 8 1 2 4 9\n",
      " 9 6 2 9 7 7 2 3 8 4 3 6 5 1 8 7 8 3 2 8 0 9 6 6 4 4]\n"
     ]
    }
   ],
   "source": [
    "print(np.argmax(y_test, axis=1))\n"
   ]
  },
  {
   "cell_type": "code",
   "execution_count": 38,
   "metadata": {},
   "outputs": [
    {
     "name": "stdout",
     "output_type": "stream",
     "text": [
      "(1200, 10)\n",
      "(30, 10)\n"
     ]
    }
   ],
   "source": [
    "print(y_train.shape)\n",
    "\n",
    "y_train30 = y_train[:30,:]\n",
    "x_train30 = x_train[:30,:]\n",
    "x_test30 = x_test[:30,:]\n",
    "y_test30 = y_test[:30,:]\n",
    "x_val30 = x_val[:30,:]\n",
    "y_val30 = y_val[:30,:]\n",
    "print(y_train30.shape)"
   ]
  },
  {
   "cell_type": "code",
   "execution_count": 14,
   "metadata": {},
   "outputs": [
    {
     "name": "stdout",
     "output_type": "stream",
     "text": [
      "X Training shape:  (1200, 10, 100, 100, 1)\n",
      "X Test shape:  (100, 10, 100, 100, 1)\n",
      "X Validation shape:  (200, 10, 100, 100, 1)\n",
      "Y Training shape:  (1200, 10)\n",
      "Y Test shape:  (100, 10)\n",
      "Y Validation shape:  (200, 10)\n"
     ]
    }
   ],
   "source": [
    "x_train = np.load('x_train.npy')\n",
    "x_test = np.load('x_test.npy')\n",
    "x_val = np.load('x_val.npy')\n",
    "y_train = np.load('y_train.npy')\n",
    "y_test = np.load('y_test.npy')\n",
    "y_val = np.load('y_val.npy')\n",
    "\n",
    "print(\"X Training shape: \",x_train.shape)\n",
    "print(\"X Test shape: \",x_test.shape)\n",
    "print(\"X Validation shape: \",x_val.shape)\n",
    "print(\"Y Training shape: \",y_train.shape)\n",
    "print(\"Y Test shape: \",y_test.shape)\n",
    "print(\"Y Validation shape: \",y_val.shape)"
   ]
  },
  {
   "cell_type": "code",
   "execution_count": 39,
   "metadata": {},
   "outputs": [
    {
     "ename": "ValueError",
     "evalue": "Exception encountered when calling layer \"conv3d_2\" (type Conv3D).\n\nNegative dimension size caused by subtracting 2 from 1 for '{{node conv3d_2/Conv3D}} = Conv3D[T=DT_FLOAT, data_format=\"NDHWC\", dilations=[1, 1, 1, 1, 1], padding=\"VALID\", strides=[1, 1, 1, 1, 1]](Placeholder, conv3d_2/Conv3D/ReadVariableOp)' with input shapes: [?,1,23,23,128], [2,2,2,128,256].\n\nCall arguments received by layer \"conv3d_2\" (type Conv3D):\n  • inputs=tf.Tensor(shape=(None, 1, 23, 23, 128), dtype=float32)",
     "output_type": "error",
     "traceback": [
      "\u001b[1;31m---------------------------------------------------------------------------\u001b[0m",
      "\u001b[1;31mValueError\u001b[0m                                Traceback (most recent call last)",
      "Cell \u001b[1;32mIn[39], line 11\u001b[0m\n\u001b[0;32m      8\u001b[0m model\u001b[39m.\u001b[39madd(Conv3D(\u001b[39m128\u001b[39m, (\u001b[39m3\u001b[39m, \u001b[39m3\u001b[39m, \u001b[39m3\u001b[39m), activation\u001b[39m=\u001b[39m\u001b[39m'\u001b[39m\u001b[39mrelu\u001b[39m\u001b[39m'\u001b[39m, strides\u001b[39m=\u001b[39m\u001b[39m1\u001b[39m))\n\u001b[0;32m      9\u001b[0m model\u001b[39m.\u001b[39madd(MaxPooling3D(pool_size\u001b[39m=\u001b[39m(\u001b[39m2\u001b[39m, \u001b[39m2\u001b[39m, \u001b[39m2\u001b[39m), strides\u001b[39m=\u001b[39m\u001b[39m2\u001b[39m))\n\u001b[1;32m---> 11\u001b[0m model\u001b[39m.\u001b[39;49madd(Conv3D(\u001b[39m256\u001b[39;49m, (\u001b[39m2\u001b[39;49m, \u001b[39m2\u001b[39;49m, \u001b[39m2\u001b[39;49m), activation\u001b[39m=\u001b[39;49m\u001b[39m'\u001b[39;49m\u001b[39mrelu\u001b[39;49m\u001b[39m'\u001b[39;49m, strides\u001b[39m=\u001b[39;49m\u001b[39m1\u001b[39;49m))\n\u001b[0;32m     12\u001b[0m model\u001b[39m.\u001b[39madd(MaxPooling3D(pool_size\u001b[39m=\u001b[39m(\u001b[39m2\u001b[39m, \u001b[39m2\u001b[39m, \u001b[39m2\u001b[39m), strides\u001b[39m=\u001b[39m\u001b[39m2\u001b[39m))\n\u001b[0;32m     14\u001b[0m \u001b[39m#model.add(Conv3D(512,(3,3,3),activation='relu',strides=1))\u001b[39;00m\n\u001b[0;32m     15\u001b[0m \u001b[39m#model.add(MaxPooling3D(pool_size=(2,2,2),strides=2))\u001b[39;00m\n",
      "File \u001b[1;32mc:\\Users\\Jai K\\AppData\\Local\\Programs\\Python\\Python310\\lib\\site-packages\\tensorflow\\python\\trackable\\base.py:205\u001b[0m, in \u001b[0;36mno_automatic_dependency_tracking.<locals>._method_wrapper\u001b[1;34m(self, *args, **kwargs)\u001b[0m\n\u001b[0;32m    203\u001b[0m \u001b[39mself\u001b[39m\u001b[39m.\u001b[39m_self_setattr_tracking \u001b[39m=\u001b[39m \u001b[39mFalse\u001b[39;00m  \u001b[39m# pylint: disable=protected-access\u001b[39;00m\n\u001b[0;32m    204\u001b[0m \u001b[39mtry\u001b[39;00m:\n\u001b[1;32m--> 205\u001b[0m   result \u001b[39m=\u001b[39m method(\u001b[39mself\u001b[39m, \u001b[39m*\u001b[39margs, \u001b[39m*\u001b[39m\u001b[39m*\u001b[39mkwargs)\n\u001b[0;32m    206\u001b[0m \u001b[39mfinally\u001b[39;00m:\n\u001b[0;32m    207\u001b[0m   \u001b[39mself\u001b[39m\u001b[39m.\u001b[39m_self_setattr_tracking \u001b[39m=\u001b[39m previous_value  \u001b[39m# pylint: disable=protected-access\u001b[39;00m\n",
      "File \u001b[1;32mc:\\Users\\Jai K\\AppData\\Local\\Programs\\Python\\Python310\\lib\\site-packages\\keras\\utils\\traceback_utils.py:70\u001b[0m, in \u001b[0;36mfilter_traceback.<locals>.error_handler\u001b[1;34m(*args, **kwargs)\u001b[0m\n\u001b[0;32m     67\u001b[0m     filtered_tb \u001b[39m=\u001b[39m _process_traceback_frames(e\u001b[39m.\u001b[39m__traceback__)\n\u001b[0;32m     68\u001b[0m     \u001b[39m# To get the full stack trace, call:\u001b[39;00m\n\u001b[0;32m     69\u001b[0m     \u001b[39m# `tf.debugging.disable_traceback_filtering()`\u001b[39;00m\n\u001b[1;32m---> 70\u001b[0m     \u001b[39mraise\u001b[39;00m e\u001b[39m.\u001b[39mwith_traceback(filtered_tb) \u001b[39mfrom\u001b[39;00m \u001b[39mNone\u001b[39m\n\u001b[0;32m     71\u001b[0m \u001b[39mfinally\u001b[39;00m:\n\u001b[0;32m     72\u001b[0m     \u001b[39mdel\u001b[39;00m filtered_tb\n",
      "File \u001b[1;32mc:\\Users\\Jai K\\AppData\\Local\\Programs\\Python\\Python310\\lib\\site-packages\\tensorflow\\python\\framework\\ops.py:1967\u001b[0m, in \u001b[0;36m_create_c_op\u001b[1;34m(graph, node_def, inputs, control_inputs, op_def, extract_traceback)\u001b[0m\n\u001b[0;32m   1964\u001b[0m   c_op \u001b[39m=\u001b[39m pywrap_tf_session\u001b[39m.\u001b[39mTF_FinishOperation(op_desc)\n\u001b[0;32m   1965\u001b[0m \u001b[39mexcept\u001b[39;00m errors\u001b[39m.\u001b[39mInvalidArgumentError \u001b[39mas\u001b[39;00m e:\n\u001b[0;32m   1966\u001b[0m   \u001b[39m# Convert to ValueError for backwards compatibility.\u001b[39;00m\n\u001b[1;32m-> 1967\u001b[0m   \u001b[39mraise\u001b[39;00m \u001b[39mValueError\u001b[39;00m(e\u001b[39m.\u001b[39mmessage)\n\u001b[0;32m   1969\u001b[0m \u001b[39m# Record the current Python stack trace as the creating stacktrace of this\u001b[39;00m\n\u001b[0;32m   1970\u001b[0m \u001b[39m# TF_Operation.\u001b[39;00m\n\u001b[0;32m   1971\u001b[0m \u001b[39mif\u001b[39;00m extract_traceback:\n",
      "\u001b[1;31mValueError\u001b[0m: Exception encountered when calling layer \"conv3d_2\" (type Conv3D).\n\nNegative dimension size caused by subtracting 2 from 1 for '{{node conv3d_2/Conv3D}} = Conv3D[T=DT_FLOAT, data_format=\"NDHWC\", dilations=[1, 1, 1, 1, 1], padding=\"VALID\", strides=[1, 1, 1, 1, 1]](Placeholder, conv3d_2/Conv3D/ReadVariableOp)' with input shapes: [?,1,23,23,128], [2,2,2,128,256].\n\nCall arguments received by layer \"conv3d_2\" (type Conv3D):\n  • inputs=tf.Tensor(shape=(None, 1, 23, 23, 128), dtype=float32)"
     ]
    }
   ],
   "source": [
    "model = Sequential()\n",
    "\n",
    "# # 1st layer group\n",
    "model.add(Conv3D(64, (3, 3, 3), strides = 1, input_shape=(13, 100, 100, 1), activation='relu', padding='valid'))\n",
    "\n",
    "model.add(MaxPooling3D(pool_size=(2, 2, 2), strides=2))\n",
    "\n",
    "model.add(Conv3D(128, (3, 3, 3), activation='relu', strides=1))\n",
    "model.add(MaxPooling3D(pool_size=(2, 2, 2), strides=2))\n",
    "\n",
    "model.add(Conv3D(256, (2, 2, 2), activation='relu', strides=1))\n",
    "model.add(MaxPooling3D(pool_size=(2, 2, 2), strides=2))\n",
    "\n",
    "#model.add(Conv3D(512,(3,3,3),activation='relu',strides=1))\n",
    "#model.add(MaxPooling3D(pool_size=(2,2,2),strides=2))\n",
    "model.add((Flatten()))\n",
    "\n",
    "# # # FC layers group\n",
    "model.add(Dense(4096, activation='relu'))\n",
    "model.add(Dropout(.5))\n",
    "model.add(Dense(2048, activation='relu'))\n",
    "model.add(Dropout(.5))\n",
    "\n",
    "model.add(Dense(10, activation='softmax'))\n",
    "\n",
    "model.compile(loss='categorical_crossentropy', optimizer='Adam', metrics=['accuracy'])\n",
    "model.summary()"
   ]
  },
  {
   "cell_type": "code",
   "execution_count": 34,
   "metadata": {},
   "outputs": [
    {
     "name": "stdout",
     "output_type": "stream",
     "text": [
      "Model: \"sequential_3\"\n",
      "_________________________________________________________________\n",
      " Layer (type)                Output Shape              Param #   \n",
      "=================================================================\n",
      " conv3d_4 (Conv3D)           (None, 8, 98, 98, 32)     896       \n",
      "                                                                 \n",
      " max_pooling3d_3 (MaxPooling  (None, 4, 49, 49, 32)    0         \n",
      " 3D)                                                             \n",
      "                                                                 \n",
      " conv3d_5 (Conv3D)           (None, 4, 49, 49, 64)     55360     \n",
      "                                                                 \n",
      " max_pooling3d_4 (MaxPooling  (None, 2, 24, 24, 64)    0         \n",
      " 3D)                                                             \n",
      "                                                                 \n",
      " conv3d_6 (Conv3D)           (None, 2, 24, 24, 128)    221312    \n",
      "                                                                 \n",
      " max_pooling3d_5 (MaxPooling  (None, 1, 12, 12, 128)   0         \n",
      " 3D)                                                             \n",
      "                                                                 \n",
      " flatten_2 (Flatten)         (None, 18432)             0         \n",
      "                                                                 \n",
      " dense_2 (Dense)             (None, 10)                184330    \n",
      "                                                                 \n",
      "=================================================================\n",
      "Total params: 461,898\n",
      "Trainable params: 461,898\n",
      "Non-trainable params: 0\n",
      "_________________________________________________________________\n"
     ]
    }
   ],
   "source": [
    "earlyStopping = EarlyStopping(monitor = 'accuracy', patience = 10)\n",
    "model = Sequential()\n",
    "#change activation functions - sigmoid, etc\n",
    "#change strides\n",
    "# 1st layer group\n",
    "model.add(Conv3D(32, (3, 3, 3), strides = 1, input_shape=(10, 100, 100, 1), activation='relu', padding='valid'))\n",
    "model.add(MaxPooling3D(pool_size=(2, 2, 2), strides=2))\n",
    "\n",
    "model.add(Conv3D(64, (3, 3, 3), activation='relu', strides=1,padding='same'))\n",
    "model.add(MaxPooling3D(pool_size=(2, 2, 2), strides=2))\n",
    "#model.add(Dropout(0.5))\n",
    "\n",
    "model.add(Conv3D(128, (3, 3, 3), activation='relu', strides=1,padding='same'))\n",
    "model.add(MaxPooling3D(pool_size=(2, 2, 2), strides=2))\n",
    "\n",
    "#model.add(Conv3D(256,(3,3,3),activation='relu',strides=1))\n",
    "#model.add(MaxPooling3D(pool_size=(2,2,2),strides=2))\n",
    "#model.add(Dropout(0.5))\n",
    "#print(model.summary())\n",
    "#model.add(Conv3D(256, (3, 3, 3), activation='relu', strides=1))\n",
    "#model.add(MaxPooling3D(pool_size=(2,2,2),strides=2))\n",
    "\n",
    "#model.add(Conv3D(128, (3, 3, 3), activation='relu', strides=1))\n",
    "\n",
    "shape = (1,10,10,128)\n",
    "#model.add(Reshape((1,shape[1]*shape[2]*shape[3])))\n",
    "model.add((Flatten()))\n",
    "model.add(Dense(10, activation='softmax'))\n",
    "model.compile(loss = 'categorical_crossentropy',optimizer = 'Adam',metrics = ['accuracy'])\n",
    "model.summary()"
   ]
  },
  {
   "cell_type": "code",
   "execution_count": 31,
   "metadata": {},
   "outputs": [
    {
     "ename": "ValueError",
     "evalue": "Input 0 of layer \"lstm1\" is incompatible with the layer: expected ndim=3, found ndim=5. Full shape received: (None, 10, 49, 49, 64)",
     "output_type": "error",
     "traceback": [
      "\u001b[1;31m---------------------------------------------------------------------------\u001b[0m",
      "\u001b[1;31mValueError\u001b[0m                                Traceback (most recent call last)",
      "Cell \u001b[1;32mIn[31], line 8\u001b[0m\n\u001b[0;32m      4\u001b[0m model\u001b[39m.\u001b[39madd(Conv3D(\u001b[39m64\u001b[39m, kernel_size\u001b[39m=\u001b[39m(\u001b[39m3\u001b[39m, \u001b[39m3\u001b[39m, \u001b[39m3\u001b[39m), activation\u001b[39m=\u001b[39m\u001b[39m'\u001b[39m\u001b[39mrelu\u001b[39m\u001b[39m'\u001b[39m,name\u001b[39m=\u001b[39m\u001b[39m'\u001b[39m\u001b[39mconv1\u001b[39m\u001b[39m'\u001b[39m,strides\u001b[39m=\u001b[39m(\u001b[39m1\u001b[39m, \u001b[39m1\u001b[39m, \u001b[39m1\u001b[39m),input_shape\u001b[39m=\u001b[39m(\u001b[39m13\u001b[39m,\u001b[39m100\u001b[39m,\u001b[39m100\u001b[39m,\u001b[39m1\u001b[39m)))\n\u001b[0;32m      7\u001b[0m model\u001b[39m.\u001b[39madd(MaxPooling3D(pool_size\u001b[39m=\u001b[39m(\u001b[39m2\u001b[39m, \u001b[39m2\u001b[39m, \u001b[39m2\u001b[39m), strides\u001b[39m=\u001b[39m(\u001b[39m1\u001b[39m,\u001b[39m2\u001b[39m,\u001b[39m2\u001b[39m),padding\u001b[39m=\u001b[39m\u001b[39m'\u001b[39m\u001b[39mvalid\u001b[39m\u001b[39m'\u001b[39m, name\u001b[39m=\u001b[39m\u001b[39m'\u001b[39m\u001b[39mpool1\u001b[39m\u001b[39m'\u001b[39m))\n\u001b[1;32m----> 8\u001b[0m model\u001b[39m.\u001b[39;49madd(LSTM(\u001b[39m64\u001b[39;49m, return_sequences\u001b[39m=\u001b[39;49m\u001b[39mTrue\u001b[39;49;00m, name\u001b[39m=\u001b[39;49m\u001b[39m'\u001b[39;49m\u001b[39mlstm1\u001b[39;49m\u001b[39m'\u001b[39;49m))\n\u001b[0;32m      9\u001b[0m \u001b[39m# 2nd layer group\u001b[39;00m\n\u001b[0;32m     11\u001b[0m model\u001b[39m.\u001b[39madd(Conv3D(\u001b[39m128\u001b[39m, kernel_size\u001b[39m=\u001b[39m(\u001b[39m3\u001b[39m, \u001b[39m3\u001b[39m, \u001b[39m3\u001b[39m), activation\u001b[39m=\u001b[39m\u001b[39m'\u001b[39m\u001b[39mrelu\u001b[39m\u001b[39m'\u001b[39m,padding\u001b[39m=\u001b[39m\u001b[39m'\u001b[39m\u001b[39msame\u001b[39m\u001b[39m'\u001b[39m, name\u001b[39m=\u001b[39m\u001b[39m'\u001b[39m\u001b[39mconv2\u001b[39m\u001b[39m'\u001b[39m,strides\u001b[39m=\u001b[39m(\u001b[39m1\u001b[39m, \u001b[39m1\u001b[39m, \u001b[39m1\u001b[39m)))\n",
      "File \u001b[1;32mc:\\Users\\Jai K\\AppData\\Local\\Programs\\Python\\Python310\\lib\\site-packages\\tensorflow\\python\\trackable\\base.py:205\u001b[0m, in \u001b[0;36mno_automatic_dependency_tracking.<locals>._method_wrapper\u001b[1;34m(self, *args, **kwargs)\u001b[0m\n\u001b[0;32m    203\u001b[0m \u001b[39mself\u001b[39m\u001b[39m.\u001b[39m_self_setattr_tracking \u001b[39m=\u001b[39m \u001b[39mFalse\u001b[39;00m  \u001b[39m# pylint: disable=protected-access\u001b[39;00m\n\u001b[0;32m    204\u001b[0m \u001b[39mtry\u001b[39;00m:\n\u001b[1;32m--> 205\u001b[0m   result \u001b[39m=\u001b[39m method(\u001b[39mself\u001b[39m, \u001b[39m*\u001b[39margs, \u001b[39m*\u001b[39m\u001b[39m*\u001b[39mkwargs)\n\u001b[0;32m    206\u001b[0m \u001b[39mfinally\u001b[39;00m:\n\u001b[0;32m    207\u001b[0m   \u001b[39mself\u001b[39m\u001b[39m.\u001b[39m_self_setattr_tracking \u001b[39m=\u001b[39m previous_value  \u001b[39m# pylint: disable=protected-access\u001b[39;00m\n",
      "File \u001b[1;32mc:\\Users\\Jai K\\AppData\\Local\\Programs\\Python\\Python310\\lib\\site-packages\\keras\\utils\\traceback_utils.py:70\u001b[0m, in \u001b[0;36mfilter_traceback.<locals>.error_handler\u001b[1;34m(*args, **kwargs)\u001b[0m\n\u001b[0;32m     67\u001b[0m     filtered_tb \u001b[39m=\u001b[39m _process_traceback_frames(e\u001b[39m.\u001b[39m__traceback__)\n\u001b[0;32m     68\u001b[0m     \u001b[39m# To get the full stack trace, call:\u001b[39;00m\n\u001b[0;32m     69\u001b[0m     \u001b[39m# `tf.debugging.disable_traceback_filtering()`\u001b[39;00m\n\u001b[1;32m---> 70\u001b[0m     \u001b[39mraise\u001b[39;00m e\u001b[39m.\u001b[39mwith_traceback(filtered_tb) \u001b[39mfrom\u001b[39;00m \u001b[39mNone\u001b[39m\n\u001b[0;32m     71\u001b[0m \u001b[39mfinally\u001b[39;00m:\n\u001b[0;32m     72\u001b[0m     \u001b[39mdel\u001b[39;00m filtered_tb\n",
      "File \u001b[1;32mc:\\Users\\Jai K\\AppData\\Local\\Programs\\Python\\Python310\\lib\\site-packages\\keras\\engine\\input_spec.py:232\u001b[0m, in \u001b[0;36massert_input_compatibility\u001b[1;34m(input_spec, inputs, layer_name)\u001b[0m\n\u001b[0;32m    230\u001b[0m     ndim \u001b[39m=\u001b[39m shape\u001b[39m.\u001b[39mrank\n\u001b[0;32m    231\u001b[0m     \u001b[39mif\u001b[39;00m ndim \u001b[39m!=\u001b[39m spec\u001b[39m.\u001b[39mndim:\n\u001b[1;32m--> 232\u001b[0m         \u001b[39mraise\u001b[39;00m \u001b[39mValueError\u001b[39;00m(\n\u001b[0;32m    233\u001b[0m             \u001b[39mf\u001b[39m\u001b[39m'\u001b[39m\u001b[39mInput \u001b[39m\u001b[39m{\u001b[39;00minput_index\u001b[39m}\u001b[39;00m\u001b[39m of layer \u001b[39m\u001b[39m\"\u001b[39m\u001b[39m{\u001b[39;00mlayer_name\u001b[39m}\u001b[39;00m\u001b[39m\"\u001b[39m\u001b[39m \u001b[39m\u001b[39m'\u001b[39m\n\u001b[0;32m    234\u001b[0m             \u001b[39m\"\u001b[39m\u001b[39mis incompatible with the layer: \u001b[39m\u001b[39m\"\u001b[39m\n\u001b[0;32m    235\u001b[0m             \u001b[39mf\u001b[39m\u001b[39m\"\u001b[39m\u001b[39mexpected ndim=\u001b[39m\u001b[39m{\u001b[39;00mspec\u001b[39m.\u001b[39mndim\u001b[39m}\u001b[39;00m\u001b[39m, found ndim=\u001b[39m\u001b[39m{\u001b[39;00mndim\u001b[39m}\u001b[39;00m\u001b[39m. \u001b[39m\u001b[39m\"\u001b[39m\n\u001b[0;32m    236\u001b[0m             \u001b[39mf\u001b[39m\u001b[39m\"\u001b[39m\u001b[39mFull shape received: \u001b[39m\u001b[39m{\u001b[39;00m\u001b[39mtuple\u001b[39m(shape)\u001b[39m}\u001b[39;00m\u001b[39m\"\u001b[39m\n\u001b[0;32m    237\u001b[0m         )\n\u001b[0;32m    238\u001b[0m \u001b[39mif\u001b[39;00m spec\u001b[39m.\u001b[39mmax_ndim \u001b[39mis\u001b[39;00m \u001b[39mnot\u001b[39;00m \u001b[39mNone\u001b[39;00m:\n\u001b[0;32m    239\u001b[0m     ndim \u001b[39m=\u001b[39m x\u001b[39m.\u001b[39mshape\u001b[39m.\u001b[39mrank\n",
      "\u001b[1;31mValueError\u001b[0m: Input 0 of layer \"lstm1\" is incompatible with the layer: expected ndim=3, found ndim=5. Full shape received: (None, 10, 49, 49, 64)"
     ]
    }
   ],
   "source": [
    "model = Sequential()\n",
    "# 1st layer group\n",
    "\n",
    "model.add(Conv3D(64, kernel_size=(3, 3, 3), activation='relu',name='conv1',strides=(1, 1, 1),input_shape=(13,100,100,1)))\n",
    "\n",
    "\n",
    "model.add(MaxPooling3D(pool_size=(2, 2, 2), strides=(1,2,2),padding='valid', name='pool1'))\n",
    "model.add(LSTM(64, return_sequences=True, name='lstm1'))\n",
    "# 2nd layer group\n",
    "\n",
    "model.add(Conv3D(128, kernel_size=(3, 3, 3), activation='relu',padding='same', name='conv2',strides=(1, 1, 1)))\n",
    "model.add(MaxPooling3D(pool_size=(2, 2, 2), strides=(2, 2, 2),padding='valid', name='pool2'))\n",
    "model.add(LSTM(128, return_sequences=True, name='lstm2'))\n",
    "# 3rd layer group\n",
    "\n",
    "model.add(Conv3D(256, kernel_size=(3, 3, 3), activation='relu',padding='same', name='conv3a',strides=(1, 1, 1)))\n",
    "model.add(Conv3D(256, kernel_size=(3, 3, 3), activation='relu',padding='same', name='conv3b',strides=(1, 1, 1)))\n",
    "model.add(MaxPooling3D(pool_size=(2, 2, 2), strides=(2, 2, 2),padding='valid', name='pool3'))\n",
    "model.add(LSTM(256, return_sequences=True, name='lstm3'))\n",
    "# 4th layer group\n",
    "model.add(Dense(4096, activation='relu', name='fc6'))\n",
    "model.add(Dropout(0.5))\n",
    "model.add(Dense(4096, activation='relu', name='fc7'))\n",
    "model.add(Dropout(0.5))\n",
    "model.add(Flatten())\n",
    "model.add(Dense(10, activation='softmax'))\n",
    "\n",
    "# model.add(Conv3D(512, kernel_size=(3, 3, 3), activation='relu',padding='same', name='conv4a',strides=(1, 1, 1)))\n",
    "# model.add(Conv3D(512, kernel_size=(3, 3, 3), activation='relu',padding='same', name='conv4b',strides=(1, 1, 1)))\n",
    "# print(model.summary())\n",
    "\n",
    "# model.add(MaxPooling3D( strides=(2, 2, 2),padding='valid', name='pool4'))\n",
    "\n",
    "# # 5th layer group\n",
    "\n",
    "# model.add(Conv3D(512, kernel_size=(3, 3, 3), activation='relu',padding='same', name='conv5a',strides=(1, 1, 1)))\n",
    "# model.add(Conv3D(512, kernel_size=(3, 3, 3), activation='relu',padding='same', name='conv5b',strides=(1, 1, 1)))\n",
    "# model.add(ZeroPadding3D(padding=(0, 1, 1)))\n",
    "# model.add(MaxPooling3D(pool_size=(2, 2, 2), strides=(2, 2, 2),padding='valid', name='pool5'))\n",
    "# model.add(Flatten())\n",
    "# # FC layers group\n",
    "# model.add(Dense(4096, activation='relu', name='fc6'))\n",
    "# model.add(Dropout(0.5))\n",
    "# model.add(Dense(4096, activation='relu', name='fc7'))\n",
    "# model.add(Dropout(0.5))\n",
    "# model.add(Dense(10, activation='softmax'))\n",
    "\n",
    "print(model.summary())\n",
    "\n",
    "model.compile(loss='categorical_crossentropy', optimizer='adam', metrics=['accuracy'])\n"
   ]
  },
  {
   "cell_type": "code",
   "execution_count": 43,
   "metadata": {},
   "outputs": [
    {
     "name": "stdout",
     "output_type": "stream",
     "text": [
      "Model: \"sequential_3\"\n",
      "_________________________________________________________________\n",
      " Layer (type)                Output Shape              Param #   \n",
      "=================================================================\n",
      " conv3d_11 (Conv3D)          (None, 10, 50, 50, 25)    700       \n",
      "                                                                 \n",
      " reshape (Reshape)           (None, 10, 10, 5, 50, 25  0         \n",
      "                             )                                   \n",
      "                                                                 \n",
      " bidirectional (Bidirectiona  (None, 10, 8, 3, 48, 256  4231168  \n",
      " l)                          )                                   \n",
      "                                                                 \n",
      " bidirectional_1 (Bidirectio  (None, 10, 6, 1, 46, 256  10617856 \n",
      " nal)                        )                                   \n",
      "                                                                 \n",
      " flatten_2 (Flatten)         (None, 706560)            0         \n",
      "                                                                 \n",
      " dense_2 (Dense)             (None, 10)                7065610   \n",
      "                                                                 \n",
      "=================================================================\n",
      "Total params: 21,915,334\n",
      "Trainable params: 21,915,334\n",
      "Non-trainable params: 0\n",
      "_________________________________________________________________\n",
      "None\n"
     ]
    }
   ],
   "source": [
    "earlyStopping = EarlyStopping(monitor='accuracy', patience=10)\n",
    "model = Sequential()\n",
    "model.add((Conv3D(25,strides=(1,2,2),kernel_size=(3,3,3),padding='same',input_shape=(10,100,100,1))))\n",
    "\n",
    "model.add(Reshape((10,10,5,50,25)))\n",
    "#model.add(Reshape((10,62500)))\n",
    "\n",
    "model.add(Bidirectional(ConvLSTM3D(128,kernel_size=(3,3,3),return_sequences=True)))\n",
    "model.add(Bidirectional(ConvLSTM3D(128,kernel_size=(3,3,3),return_sequences=True)))\n",
    "\n",
    "model.add(Flatten())\n",
    "model.add(Dense(10,activation='softmax'))\n",
    "print(model.summary())  \n",
    "model.compile(loss='categorical_crossentropy',optimizer='adam',metrics=['accuracy'])\n"
   ]
  },
  {
   "cell_type": "code",
   "execution_count": 42,
   "metadata": {},
   "outputs": [
    {
     "name": "stdout",
     "output_type": "stream",
     "text": [
      "Model: \"sequential_2\"\n",
      "_________________________________________________________________\n",
      " Layer (type)                Output Shape              Param #   \n",
      "=================================================================\n",
      " conv3d_7 (Conv3D)           (None, 10, 100, 100, 64)  128       \n",
      "                                                                 \n",
      " max_pooling3d_5 (MaxPooling  (None, 5, 50, 50, 64)    0         \n",
      " 3D)                                                             \n",
      "                                                                 \n",
      " conv3d_8 (Conv3D)           (None, 5, 50, 50, 128)    8320      \n",
      "                                                                 \n",
      " max_pooling3d_6 (MaxPooling  (None, 2, 25, 25, 128)   0         \n",
      " 3D)                                                             \n",
      "                                                                 \n",
      " conv3d_9 (Conv3D)           (None, 2, 25, 25, 256)    33024     \n",
      "                                                                 \n",
      " max_pooling3d_7 (MaxPooling  (None, 1, 12, 12, 256)   0         \n",
      " 3D)                                                             \n",
      "                                                                 \n",
      " conv3d_10 (Conv3D)          (None, 1, 12, 12, 512)    131584    \n",
      "                                                                 \n",
      " flatten_1 (Flatten)         (None, 73728)             0         \n",
      "                                                                 \n",
      " dense_1 (Dense)             (None, 10)                737290    \n",
      "                                                                 \n",
      "=================================================================\n",
      "Total params: 910,346\n",
      "Trainable params: 910,346\n",
      "Non-trainable params: 0\n",
      "_________________________________________________________________\n",
      "None\n"
     ]
    }
   ],
   "source": [
    "model = Sequential()\n",
    "model.add(Conv3D(64,kernel_size=1,activation='relu',input_shape=(10,100,100,1)))\n",
    "model.add(MaxPooling3D(strides=(2,2,2)))\n",
    "\n",
    "model.add(Conv3D(128,kernel_size=1,activation='relu'))\n",
    "model.add(MaxPooling3D(strides=(2,2,2)))\n",
    "\n",
    "model.add(Conv3D(256,kernel_size=1,activation='relu'))\n",
    "model.add(MaxPooling3D(strides=(2,2,2)))\n",
    "\n",
    "model.add(Conv3D(512,kernel_size=1,activation='relu'))\n",
    "#model.add(MaxPooling3D(strides=(2,2,2)))\n",
    "\n",
    "#model.add(Conv3D(1024,kernel_size=1,activation='relu'))\n",
    "\n",
    "\n",
    "model.add(Flatten())\n",
    "\n",
    "model.add(Dense(10,activation='softmax'))\n",
    "model.compile(loss='categorical_crossentropy',optimizer='adam',metrics=['accuracy'])\n",
    "print(model.summary())"
   ]
  },
  {
   "cell_type": "code",
   "execution_count": 18,
   "metadata": {},
   "outputs": [
    {
     "name": "stdout",
     "output_type": "stream",
     "text": [
      "Model: \"sequential_9\"\n",
      "_________________________________________________________________\n",
      " Layer (type)                Output Shape              Param #   \n",
      "=================================================================\n",
      " zero1 (ZeroPadding3D)       (None, 12, 104, 104, 1)   0         \n",
      "                                                                 \n",
      "=================================================================\n",
      "Total params: 0\n",
      "Trainable params: 0\n",
      "Non-trainable params: 0\n",
      "_________________________________________________________________\n",
      "None\n",
      "Model: \"sequential_9\"\n",
      "_________________________________________________________________\n",
      " Layer (type)                Output Shape              Param #   \n",
      "=================================================================\n",
      " zero1 (ZeroPadding3D)       (None, 12, 104, 104, 1)   0         \n",
      "                                                                 \n",
      " conv1 (Conv3D)              (None, 10, 50, 50, 32)    2432      \n",
      "                                                                 \n",
      " max1 (MaxPooling3D)         (None, 10, 25, 25, 32)    0         \n",
      "                                                                 \n",
      " dropout_6 (Dropout)         (None, 10, 25, 25, 32)    0         \n",
      "                                                                 \n",
      " zero2 (ZeroPadding3D)       (None, 12, 29, 29, 32)    0         \n",
      "                                                                 \n",
      " conv2 (Conv3D)              (None, 10, 25, 25, 64)    153664    \n",
      "                                                                 \n",
      " max2 (MaxPooling3D)         (None, 10, 12, 12, 64)    0         \n",
      "                                                                 \n",
      " dropout_7 (Dropout)         (None, 10, 12, 12, 64)    0         \n",
      "                                                                 \n",
      " zero3 (ZeroPadding3D)       (None, 12, 14, 14, 64)    0         \n",
      "                                                                 \n",
      " conv3 (Conv3D)              (None, 10, 12, 12, 96)    165984    \n",
      "                                                                 \n",
      " max3 (MaxPooling3D)         (None, 10, 6, 6, 96)      0         \n",
      "                                                                 \n",
      " dropout_8 (Dropout)         (None, 10, 6, 6, 96)      0         \n",
      "                                                                 \n",
      " time_distributed_2 (TimeDis  (None, 10, 3456)         0         \n",
      " tributed)                                                       \n",
      "                                                                 \n",
      " bidirectional_4 (Bidirectio  (None, 10, 512)          5704704   \n",
      " nal)                                                            \n",
      "                                                                 \n",
      " bidirectional_5 (Bidirectio  (None, 10, 512)          1182720   \n",
      " nal)                                                            \n",
      "                                                                 \n",
      " flatten_3 (Flatten)         (None, 5120)              0         \n",
      "                                                                 \n",
      " dense_2 (Dense)             (None, 10)                51210     \n",
      "                                                                 \n",
      "=================================================================\n",
      "Total params: 7,260,714\n",
      "Trainable params: 7,260,714\n",
      "Non-trainable params: 0\n",
      "_________________________________________________________________\n",
      "None\n"
     ]
    }
   ],
   "source": [
    "# import lipnet\n",
    "# from lipnet.core.layers import CTC\n",
    "input_shape = (10,100,100,1)\n",
    "model = Sequential()\n",
    "model.add(Input(name='input',shape=input_shape,dtype='float32'))\n",
    "model.add(ZeroPadding3D(padding=(1, 2, 2), name='zero1'))\n",
    "\n",
    "print(model.summary())\n",
    "\n",
    "model.add((Conv3D(32, (3, 5, 5), strides=(1, 2, 2), activation='relu', kernel_initializer='he_normal', name='conv1')))\n",
    "model.add(MaxPooling3D(pool_size=(1, 2, 2), strides=(1, 2, 2), name='max1'))\n",
    "model.add(Dropout(0.5))\n",
    "\n",
    "model.add(ZeroPadding3D(padding=(1, 2, 2), name='zero2'))\n",
    "model.add(Conv3D(64, (3, 5, 5), strides=(1, 1, 1), activation='relu', kernel_initializer='he_normal', name='conv2'))\n",
    "model.add(MaxPooling3D(pool_size=(1, 2, 2), strides=(1, 2, 2), name='max2'))\n",
    "model.add(Dropout(0.5))\n",
    "\n",
    "model.add(ZeroPadding3D(padding=(1, 1, 1), name='zero3'))\n",
    "model.add(Conv3D(96, (3, 3, 3), strides=(1, 1, 1), activation='relu', kernel_initializer='he_normal', name='conv3'))\n",
    "model.add(MaxPooling3D(pool_size=(1, 2, 2), strides=(1, 2, 2), name='max3'))\n",
    "model.add(Dropout(0.5))\n",
    "\n",
    "model.add(TimeDistributed(Flatten()))\n",
    "\n",
    "model.add(Bidirectional(GRU(256, return_sequences=True, kernel_initializer='Orthogonal', name='gru1'), merge_mode='concat'))\n",
    "model.add(Bidirectional(GRU(256, return_sequences=True, kernel_initializer='Orthogonal', name='gru2'), merge_mode='concat'))\n",
    "model.add(Flatten())\n",
    "model.add(Dense(10,activation='softmax'))\n",
    "print(model.summary())\n",
    "\n",
    "model.compile(loss='categorical_crossentropy', optimizer='adam',metrics=['accuracy'])\n"
   ]
  },
  {
   "cell_type": "code",
   "execution_count": 12,
   "metadata": {},
   "outputs": [
    {
     "ename": "NameError",
     "evalue": "name 'x_train30' is not defined",
     "output_type": "error",
     "traceback": [
      "\u001b[1;31m---------------------------------------------------------------------------\u001b[0m",
      "\u001b[1;31mNameError\u001b[0m                                 Traceback (most recent call last)",
      "Cell \u001b[1;32mIn[12], line 1\u001b[0m\n\u001b[1;32m----> 1\u001b[0m preds \u001b[39m=\u001b[39m model\u001b[39m.\u001b[39mpredict(x_train30)\n",
      "\u001b[1;31mNameError\u001b[0m: name 'x_train30' is not defined"
     ]
    }
   ],
   "source": []
  },
  {
   "cell_type": "code",
   "execution_count": 77,
   "metadata": {},
   "outputs": [
    {
     "data": {
      "text/plain": [
       "0"
      ]
     },
     "execution_count": 77,
     "metadata": {},
     "output_type": "execute_result"
    }
   ],
   "source": [
    "np.isnan(y_train).sum()"
   ]
  },
  {
   "cell_type": "code",
   "execution_count": 19,
   "metadata": {},
   "outputs": [
    {
     "name": "stdout",
     "output_type": "stream",
     "text": [
      "Epoch 1/45\n",
      "38/38 [==============================] - 160s 4s/step - loss: 2.7987 - accuracy: 0.1192 - val_loss: 2.5321 - val_accuracy: 0.1000\n",
      "Epoch 2/45\n",
      "38/38 [==============================] - 165s 4s/step - loss: 2.3884 - accuracy: 0.0933 - val_loss: 2.3248 - val_accuracy: 0.1000\n",
      "Epoch 3/45\n",
      "38/38 [==============================] - 184s 5s/step - loss: 2.3591 - accuracy: 0.0950 - val_loss: 2.3238 - val_accuracy: 0.0950\n",
      "Epoch 4/45\n",
      "38/38 [==============================] - 184s 5s/step - loss: 2.3284 - accuracy: 0.1000 - val_loss: 2.3223 - val_accuracy: 0.1000\n",
      "Epoch 5/45\n",
      "12/38 [========>.....................] - ETA: 1:53 - loss: 2.3143 - accuracy: 0.0964"
     ]
    },
    {
     "ename": "KeyboardInterrupt",
     "evalue": "",
     "output_type": "error",
     "traceback": [
      "\u001b[1;31m---------------------------------------------------------------------------\u001b[0m",
      "\u001b[1;31mKeyboardInterrupt\u001b[0m                         Traceback (most recent call last)",
      "Cell \u001b[1;32mIn[19], line 3\u001b[0m\n\u001b[0;32m      1\u001b[0m t1 \u001b[39m=\u001b[39m time\u001b[39m.\u001b[39mtime()\n\u001b[0;32m      2\u001b[0m \u001b[39m#history = model.fit(x_train, y_train, validation_data=(x_val, y_val), callbacks = [earlyStopping], epochs=45)\u001b[39;00m\n\u001b[1;32m----> 3\u001b[0m history \u001b[39m=\u001b[39m model\u001b[39m.\u001b[39;49mfit(x_train, y_train, validation_data\u001b[39m=\u001b[39;49m(x_val, y_val), epochs\u001b[39m=\u001b[39;49m\u001b[39m45\u001b[39;49m)\n\u001b[0;32m      4\u001b[0m t2 \u001b[39m=\u001b[39m time\u001b[39m.\u001b[39mtime()\n\u001b[0;32m      5\u001b[0m \u001b[39mprint\u001b[39m()\n",
      "File \u001b[1;32mc:\\Users\\Jai K\\AppData\\Local\\Programs\\Python\\Python310\\lib\\site-packages\\keras\\utils\\traceback_utils.py:65\u001b[0m, in \u001b[0;36mfilter_traceback.<locals>.error_handler\u001b[1;34m(*args, **kwargs)\u001b[0m\n\u001b[0;32m     63\u001b[0m filtered_tb \u001b[39m=\u001b[39m \u001b[39mNone\u001b[39;00m\n\u001b[0;32m     64\u001b[0m \u001b[39mtry\u001b[39;00m:\n\u001b[1;32m---> 65\u001b[0m     \u001b[39mreturn\u001b[39;00m fn(\u001b[39m*\u001b[39margs, \u001b[39m*\u001b[39m\u001b[39m*\u001b[39mkwargs)\n\u001b[0;32m     66\u001b[0m \u001b[39mexcept\u001b[39;00m \u001b[39mException\u001b[39;00m \u001b[39mas\u001b[39;00m e:\n\u001b[0;32m     67\u001b[0m     filtered_tb \u001b[39m=\u001b[39m _process_traceback_frames(e\u001b[39m.\u001b[39m__traceback__)\n",
      "File \u001b[1;32mc:\\Users\\Jai K\\AppData\\Local\\Programs\\Python\\Python310\\lib\\site-packages\\keras\\engine\\training.py:1650\u001b[0m, in \u001b[0;36mModel.fit\u001b[1;34m(self, x, y, batch_size, epochs, verbose, callbacks, validation_split, validation_data, shuffle, class_weight, sample_weight, initial_epoch, steps_per_epoch, validation_steps, validation_batch_size, validation_freq, max_queue_size, workers, use_multiprocessing)\u001b[0m\n\u001b[0;32m   1642\u001b[0m \u001b[39mwith\u001b[39;00m tf\u001b[39m.\u001b[39mprofiler\u001b[39m.\u001b[39mexperimental\u001b[39m.\u001b[39mTrace(\n\u001b[0;32m   1643\u001b[0m     \u001b[39m\"\u001b[39m\u001b[39mtrain\u001b[39m\u001b[39m\"\u001b[39m,\n\u001b[0;32m   1644\u001b[0m     epoch_num\u001b[39m=\u001b[39mepoch,\n\u001b[1;32m   (...)\u001b[0m\n\u001b[0;32m   1647\u001b[0m     _r\u001b[39m=\u001b[39m\u001b[39m1\u001b[39m,\n\u001b[0;32m   1648\u001b[0m ):\n\u001b[0;32m   1649\u001b[0m     callbacks\u001b[39m.\u001b[39mon_train_batch_begin(step)\n\u001b[1;32m-> 1650\u001b[0m     tmp_logs \u001b[39m=\u001b[39m \u001b[39mself\u001b[39;49m\u001b[39m.\u001b[39;49mtrain_function(iterator)\n\u001b[0;32m   1651\u001b[0m     \u001b[39mif\u001b[39;00m data_handler\u001b[39m.\u001b[39mshould_sync:\n\u001b[0;32m   1652\u001b[0m         context\u001b[39m.\u001b[39masync_wait()\n",
      "File \u001b[1;32mc:\\Users\\Jai K\\AppData\\Local\\Programs\\Python\\Python310\\lib\\site-packages\\tensorflow\\python\\util\\traceback_utils.py:150\u001b[0m, in \u001b[0;36mfilter_traceback.<locals>.error_handler\u001b[1;34m(*args, **kwargs)\u001b[0m\n\u001b[0;32m    148\u001b[0m filtered_tb \u001b[39m=\u001b[39m \u001b[39mNone\u001b[39;00m\n\u001b[0;32m    149\u001b[0m \u001b[39mtry\u001b[39;00m:\n\u001b[1;32m--> 150\u001b[0m   \u001b[39mreturn\u001b[39;00m fn(\u001b[39m*\u001b[39margs, \u001b[39m*\u001b[39m\u001b[39m*\u001b[39mkwargs)\n\u001b[0;32m    151\u001b[0m \u001b[39mexcept\u001b[39;00m \u001b[39mException\u001b[39;00m \u001b[39mas\u001b[39;00m e:\n\u001b[0;32m    152\u001b[0m   filtered_tb \u001b[39m=\u001b[39m _process_traceback_frames(e\u001b[39m.\u001b[39m__traceback__)\n",
      "File \u001b[1;32mc:\\Users\\Jai K\\AppData\\Local\\Programs\\Python\\Python310\\lib\\site-packages\\tensorflow\\python\\eager\\polymorphic_function\\polymorphic_function.py:880\u001b[0m, in \u001b[0;36mFunction.__call__\u001b[1;34m(self, *args, **kwds)\u001b[0m\n\u001b[0;32m    877\u001b[0m compiler \u001b[39m=\u001b[39m \u001b[39m\"\u001b[39m\u001b[39mxla\u001b[39m\u001b[39m\"\u001b[39m \u001b[39mif\u001b[39;00m \u001b[39mself\u001b[39m\u001b[39m.\u001b[39m_jit_compile \u001b[39melse\u001b[39;00m \u001b[39m\"\u001b[39m\u001b[39mnonXla\u001b[39m\u001b[39m\"\u001b[39m\n\u001b[0;32m    879\u001b[0m \u001b[39mwith\u001b[39;00m OptionalXlaContext(\u001b[39mself\u001b[39m\u001b[39m.\u001b[39m_jit_compile):\n\u001b[1;32m--> 880\u001b[0m   result \u001b[39m=\u001b[39m \u001b[39mself\u001b[39m\u001b[39m.\u001b[39m_call(\u001b[39m*\u001b[39margs, \u001b[39m*\u001b[39m\u001b[39m*\u001b[39mkwds)\n\u001b[0;32m    882\u001b[0m new_tracing_count \u001b[39m=\u001b[39m \u001b[39mself\u001b[39m\u001b[39m.\u001b[39mexperimental_get_tracing_count()\n\u001b[0;32m    883\u001b[0m without_tracing \u001b[39m=\u001b[39m (tracing_count \u001b[39m==\u001b[39m new_tracing_count)\n",
      "File \u001b[1;32mc:\\Users\\Jai K\\AppData\\Local\\Programs\\Python\\Python310\\lib\\site-packages\\tensorflow\\python\\eager\\polymorphic_function\\polymorphic_function.py:912\u001b[0m, in \u001b[0;36mFunction._call\u001b[1;34m(self, *args, **kwds)\u001b[0m\n\u001b[0;32m    909\u001b[0m   \u001b[39mself\u001b[39m\u001b[39m.\u001b[39m_lock\u001b[39m.\u001b[39mrelease()\n\u001b[0;32m    910\u001b[0m   \u001b[39m# In this case we have created variables on the first call, so we run the\u001b[39;00m\n\u001b[0;32m    911\u001b[0m   \u001b[39m# defunned version which is guaranteed to never create variables.\u001b[39;00m\n\u001b[1;32m--> 912\u001b[0m   \u001b[39mreturn\u001b[39;00m \u001b[39mself\u001b[39m\u001b[39m.\u001b[39m_no_variable_creation_fn(\u001b[39m*\u001b[39margs, \u001b[39m*\u001b[39m\u001b[39m*\u001b[39mkwds)  \u001b[39m# pylint: disable=not-callable\u001b[39;00m\n\u001b[0;32m    913\u001b[0m \u001b[39melif\u001b[39;00m \u001b[39mself\u001b[39m\u001b[39m.\u001b[39m_variable_creation_fn \u001b[39mis\u001b[39;00m \u001b[39mnot\u001b[39;00m \u001b[39mNone\u001b[39;00m:\n\u001b[0;32m    914\u001b[0m   \u001b[39m# Release the lock early so that multiple threads can perform the call\u001b[39;00m\n\u001b[0;32m    915\u001b[0m   \u001b[39m# in parallel.\u001b[39;00m\n\u001b[0;32m    916\u001b[0m   \u001b[39mself\u001b[39m\u001b[39m.\u001b[39m_lock\u001b[39m.\u001b[39mrelease()\n",
      "File \u001b[1;32mc:\\Users\\Jai K\\AppData\\Local\\Programs\\Python\\Python310\\lib\\site-packages\\tensorflow\\python\\eager\\polymorphic_function\\tracing_compiler.py:134\u001b[0m, in \u001b[0;36mTracingCompiler.__call__\u001b[1;34m(self, *args, **kwargs)\u001b[0m\n\u001b[0;32m    131\u001b[0m \u001b[39mwith\u001b[39;00m \u001b[39mself\u001b[39m\u001b[39m.\u001b[39m_lock:\n\u001b[0;32m    132\u001b[0m   (concrete_function,\n\u001b[0;32m    133\u001b[0m    filtered_flat_args) \u001b[39m=\u001b[39m \u001b[39mself\u001b[39m\u001b[39m.\u001b[39m_maybe_define_function(args, kwargs)\n\u001b[1;32m--> 134\u001b[0m \u001b[39mreturn\u001b[39;00m concrete_function\u001b[39m.\u001b[39;49m_call_flat(\n\u001b[0;32m    135\u001b[0m     filtered_flat_args, captured_inputs\u001b[39m=\u001b[39;49mconcrete_function\u001b[39m.\u001b[39;49mcaptured_inputs)\n",
      "File \u001b[1;32mc:\\Users\\Jai K\\AppData\\Local\\Programs\\Python\\Python310\\lib\\site-packages\\tensorflow\\python\\eager\\polymorphic_function\\monomorphic_function.py:1745\u001b[0m, in \u001b[0;36mConcreteFunction._call_flat\u001b[1;34m(self, args, captured_inputs, cancellation_manager)\u001b[0m\n\u001b[0;32m   1741\u001b[0m possible_gradient_type \u001b[39m=\u001b[39m gradients_util\u001b[39m.\u001b[39mPossibleTapeGradientTypes(args)\n\u001b[0;32m   1742\u001b[0m \u001b[39mif\u001b[39;00m (possible_gradient_type \u001b[39m==\u001b[39m gradients_util\u001b[39m.\u001b[39mPOSSIBLE_GRADIENT_TYPES_NONE\n\u001b[0;32m   1743\u001b[0m     \u001b[39mand\u001b[39;00m executing_eagerly):\n\u001b[0;32m   1744\u001b[0m   \u001b[39m# No tape is watching; skip to running the function.\u001b[39;00m\n\u001b[1;32m-> 1745\u001b[0m   \u001b[39mreturn\u001b[39;00m \u001b[39mself\u001b[39m\u001b[39m.\u001b[39m_build_call_outputs(\u001b[39mself\u001b[39;49m\u001b[39m.\u001b[39;49m_inference_function\u001b[39m.\u001b[39;49mcall(\n\u001b[0;32m   1746\u001b[0m       ctx, args, cancellation_manager\u001b[39m=\u001b[39;49mcancellation_manager))\n\u001b[0;32m   1747\u001b[0m forward_backward \u001b[39m=\u001b[39m \u001b[39mself\u001b[39m\u001b[39m.\u001b[39m_select_forward_and_backward_functions(\n\u001b[0;32m   1748\u001b[0m     args,\n\u001b[0;32m   1749\u001b[0m     possible_gradient_type,\n\u001b[0;32m   1750\u001b[0m     executing_eagerly)\n\u001b[0;32m   1751\u001b[0m forward_function, args_with_tangents \u001b[39m=\u001b[39m forward_backward\u001b[39m.\u001b[39mforward()\n",
      "File \u001b[1;32mc:\\Users\\Jai K\\AppData\\Local\\Programs\\Python\\Python310\\lib\\site-packages\\tensorflow\\python\\eager\\polymorphic_function\\monomorphic_function.py:378\u001b[0m, in \u001b[0;36m_EagerDefinedFunction.call\u001b[1;34m(self, ctx, args, cancellation_manager)\u001b[0m\n\u001b[0;32m    376\u001b[0m \u001b[39mwith\u001b[39;00m _InterpolateFunctionError(\u001b[39mself\u001b[39m):\n\u001b[0;32m    377\u001b[0m   \u001b[39mif\u001b[39;00m cancellation_manager \u001b[39mis\u001b[39;00m \u001b[39mNone\u001b[39;00m:\n\u001b[1;32m--> 378\u001b[0m     outputs \u001b[39m=\u001b[39m execute\u001b[39m.\u001b[39;49mexecute(\n\u001b[0;32m    379\u001b[0m         \u001b[39mstr\u001b[39;49m(\u001b[39mself\u001b[39;49m\u001b[39m.\u001b[39;49msignature\u001b[39m.\u001b[39;49mname),\n\u001b[0;32m    380\u001b[0m         num_outputs\u001b[39m=\u001b[39;49m\u001b[39mself\u001b[39;49m\u001b[39m.\u001b[39;49m_num_outputs,\n\u001b[0;32m    381\u001b[0m         inputs\u001b[39m=\u001b[39;49margs,\n\u001b[0;32m    382\u001b[0m         attrs\u001b[39m=\u001b[39;49mattrs,\n\u001b[0;32m    383\u001b[0m         ctx\u001b[39m=\u001b[39;49mctx)\n\u001b[0;32m    384\u001b[0m   \u001b[39melse\u001b[39;00m:\n\u001b[0;32m    385\u001b[0m     outputs \u001b[39m=\u001b[39m execute\u001b[39m.\u001b[39mexecute_with_cancellation(\n\u001b[0;32m    386\u001b[0m         \u001b[39mstr\u001b[39m(\u001b[39mself\u001b[39m\u001b[39m.\u001b[39msignature\u001b[39m.\u001b[39mname),\n\u001b[0;32m    387\u001b[0m         num_outputs\u001b[39m=\u001b[39m\u001b[39mself\u001b[39m\u001b[39m.\u001b[39m_num_outputs,\n\u001b[1;32m   (...)\u001b[0m\n\u001b[0;32m    390\u001b[0m         ctx\u001b[39m=\u001b[39mctx,\n\u001b[0;32m    391\u001b[0m         cancellation_manager\u001b[39m=\u001b[39mcancellation_manager)\n",
      "File \u001b[1;32mc:\\Users\\Jai K\\AppData\\Local\\Programs\\Python\\Python310\\lib\\site-packages\\tensorflow\\python\\eager\\execute.py:52\u001b[0m, in \u001b[0;36mquick_execute\u001b[1;34m(op_name, num_outputs, inputs, attrs, ctx, name)\u001b[0m\n\u001b[0;32m     50\u001b[0m \u001b[39mtry\u001b[39;00m:\n\u001b[0;32m     51\u001b[0m   ctx\u001b[39m.\u001b[39mensure_initialized()\n\u001b[1;32m---> 52\u001b[0m   tensors \u001b[39m=\u001b[39m pywrap_tfe\u001b[39m.\u001b[39;49mTFE_Py_Execute(ctx\u001b[39m.\u001b[39;49m_handle, device_name, op_name,\n\u001b[0;32m     53\u001b[0m                                       inputs, attrs, num_outputs)\n\u001b[0;32m     54\u001b[0m \u001b[39mexcept\u001b[39;00m core\u001b[39m.\u001b[39m_NotOkStatusException \u001b[39mas\u001b[39;00m e:\n\u001b[0;32m     55\u001b[0m   \u001b[39mif\u001b[39;00m name \u001b[39mis\u001b[39;00m \u001b[39mnot\u001b[39;00m \u001b[39mNone\u001b[39;00m:\n",
      "\u001b[1;31mKeyboardInterrupt\u001b[0m: "
     ]
    }
   ],
   "source": [
    "t1 = time.time()\n",
    "#history = model.fit(x_train, y_train, validation_data=(x_val, y_val), callbacks = [earlyStopping], epochs=45)\n",
    "history = model.fit(x_train, y_train, validation_data=(x_val, y_val), epochs=45)\n",
    "t2 = time.time()\n",
    "print()\n",
    "print(f\"Training time : {(t2 - t1)/60} mins.\")"
   ]
  },
  {
   "cell_type": "code",
   "execution_count": 36,
   "metadata": {},
   "outputs": [
    {
     "name": "stdout",
     "output_type": "stream",
     "text": [
      "You must install pydot (`pip install pydot`) and install graphviz (see instructions at https://graphviz.gitlab.io/download/) for plot_model to work.\n"
     ]
    }
   ],
   "source": [
    "plot_model(model, show_shapes=True, show_layer_names=True)"
   ]
  },
  {
   "cell_type": "code",
   "execution_count": 37,
   "metadata": {},
   "outputs": [
    {
     "data": {
      "image/png": "[encoded data removed]",
      "text/plain": [
       "<Figure size 640x480 with 1 Axes>"
      ]
     },
     "metadata": {},
     "output_type": "display_data"
    }
   ],
   "source": [
    "plt.plot(history.history['accuracy'])\n",
    "plt.plot(history.history['val_accuracy'])\n",
    "plt.title('Model accuracy')\n",
    "plt.ylabel('Accuracy')\n",
    "plt.xlabel('Epoch')\n",
    "plt.legend(['Train', 'Validation'], loc='upper left')\n",
    "plt.show()"
   ]
  },
  {
   "cell_type": "code",
   "execution_count": 38,
   "metadata": {},
   "outputs": [
    {
     "data": {
      "image/png": "[encoded data removed]",
      "text/plain": [
       "<Figure size 640x480 with 1 Axes>"
      ]
     },
     "metadata": {},
     "output_type": "display_data"
    }
   ],
   "source": [
    "plt.plot(history.history['loss'])\n",
    "plt.plot(history.history['val_loss'])\n",
    "plt.title('Model loss')\n",
    "plt.ylabel('Loss')\n",
    "plt.xlabel('Epoch')\n",
    "plt.xlim(1, 40)\n",
    "# plt.ylim(0, 3)\n",
    "plt.legend(['Train', 'Validation'], loc='upper left')\n",
    "plt.show()"
   ]
  },
  {
   "cell_type": "code",
   "execution_count": 39,
   "metadata": {},
   "outputs": [
    {
     "name": "stdout",
     "output_type": "stream",
     "text": [
      "1/1 [==============================] - 1s 892ms/step\n"
     ]
    }
   ],
   "source": [
    "ypred = model.predict(x_test)\n",
    "\n",
    "# predicted_words = [words[i] for i in np.argmax(ypred, axis=1)]\n",
    "# actual_words = [words[i] for i in np.argmax(y_test,axis=1)]\n",
    "predicted_words = [phrases[i] for i in np.argmax(ypred, axis=1)]\n",
    "actual_words = [phrases[i] for i in np.argmax(y_test,axis=1)]"
   ]
  },
  {
   "cell_type": "code",
   "execution_count": 40,
   "metadata": {},
   "outputs": [
    {
     "name": "stdout",
     "output_type": "stream",
     "text": [
      "Predicted : Stop navigaton \t Actual : Excuse me\n",
      "Predicted : Stop navigaton \t Actual : Excuse me\n",
      "Predicted : Stop navigaton \t Actual : Excuse me\n",
      "Predicted : Stop navigaton \t Actual : Excuse me\n",
      "Predicted : Stop navigaton \t Actual : Excuse me\n",
      "Predicted : Stop navigaton \t Actual : Excuse me\n",
      "Predicted : Stop navigaton \t Actual : Excuse me\n",
      "Predicted : Stop navigaton \t Actual : Excuse me\n",
      "Predicted : Stop navigaton \t Actual : Excuse me\n",
      "Predicted : Stop navigaton \t Actual : Excuse me\n",
      "\n",
      "\n",
      "Accuracy = 0.0% on training data\n"
     ]
    }
   ],
   "source": [
    "correct = 0\n",
    "for p, a in zip(predicted_words, actual_words):\n",
    "    if p == a:\n",
    "        correct += 1\n",
    "    print(f\"Predicted : {p} \\t Actual : {a}\")\n",
    "\n",
    "accuracy = correct/len(actual_words)\n",
    "print()\n",
    "print()\n",
    "print(f\"Accuracy = {accuracy*100}% on training data\")"
   ]
  }
 ],
 "metadata": {
  "kernelspec": {
   "display_name": "Python 3",
   "language": "python",
   "name": "python3"
  },
  "language_info": {
   "codemirror_mode": {
    "name": "ipython",
    "version": 3
   },
   "file_extension": ".py",
   "mimetype": "text/x-python",
   "name": "python",
   "nbconvert_exporter": "python",
   "pygments_lexer": "ipython3",
   "version": "3.10.0"
  },
  "orig_nbformat": 4,
  "vscode": {
   "interpreter": {
    "hash": "7b1e5666bae04dd529d9cdc03df8eb25744c6e734a6948cf4306c9bfbc71bcf6"
   }
  }
 },
 "nbformat": 4,
 "nbformat_minor": 2
}
